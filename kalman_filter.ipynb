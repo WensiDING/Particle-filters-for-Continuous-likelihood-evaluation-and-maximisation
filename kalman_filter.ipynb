{
 "cells": [
  {
   "cell_type": "code",
   "execution_count": 21,
   "metadata": {},
   "outputs": [],
   "source": [
    "import numpy as np\n",
    "from scipy.stats import norm\n",
    "import matplotlib.pyplot as plt"
   ]
  },
  {
   "cell_type": "code",
   "execution_count": 5,
   "metadata": {},
   "outputs": [],
   "source": [
    "def generator_ar_1(sigma_epsilon_square=2, sigma_eta_square=0.02, phi=0.975, mu=0.5, T=5000, seed=2345):\n",
    "    np.random.seed(seed=seed)\n",
    "    x = 0\n",
    "    ys = np.zeros(T)\n",
    "    for i in range(T):\n",
    "        ys[i] = x + np.random.randn(1) * np.sqrt(sigma_epsilon_square)\n",
    "        x = (x - mu) * phi + mu + np.random.randn(1) * \\\n",
    "            np.sqrt(sigma_eta_square)\n",
    "    print('sample generated with success !')\n",
    "    return ys"
   ]
  },
  {
   "cell_type": "markdown",
   "metadata": {},
   "source": [
    "# Expectation"
   ]
  },
  {
   "cell_type": "code",
   "execution_count": 41,
   "metadata": {},
   "outputs": [],
   "source": [
    "def compute_alpha_t(y, t, ct, mu_alpha, sigma2_alpha, A, b, sigma2_eta, sigma2_epi):\n",
    "    '''All sigma are squared: sigma2 == variance'''\n",
    "    if t == 0:\n",
    "        ct[0] = norm.pdf(y, loc=0, scale=np.sqrt(sigma2_epi))\n",
    "    if t == 1:\n",
    "        denom = sigma2_eta + sigma2_epi\n",
    "        mu_alpha[1] = (y * sigma2_eta + sigma2_epi * b) / denom\n",
    "        sigma2_alpha[1] = sigma2_eta * sigma2_epi / denom\n",
    "        ct[1] = norm.pdf(y, loc=b, scale=np.sqrt(denom))\n",
    "    else:\n",
    "        sigma2_tmp = sigma2_eta + A * A * sigma2_alpha[t-1]\n",
    "        denom = sigma2_tmp + sigma2_epi\n",
    "        nom = sigma2_tmp * y + sigma2_epi * (A * mu_alpha[t-1] + b)\n",
    "        mu_alpha[t] = nom / denom\n",
    "        sigma2_alpha[t] = sigma2_epi * sigma2_tmp / denom\n",
    "        ct[t] = norm.pdf(y, loc=A*mu_alpha[t-1]+b, scale=np.sqrt(denom))\n",
    "    return\n",
    "\n",
    "def compute_alpha_hat(ys, A, b, sigma2_eta, sigma2_epi):\n",
    "    Y = np.array(ys)\n",
    "    T = Y.shape[0]\n",
    "    mu_alpha = np.zeros(T)\n",
    "    sigma2_alpha = np.zeros(T)\n",
    "    ct = np.zeros(T)\n",
    "    for t in range(T):\n",
    "        compute_alpha_t(Y[t], t, ct, mu_alpha, sigma2_alpha, A, b, sigma2_eta, sigma2_epi)\n",
    "    return mu_alpha, sigma2_alpha, ct\n",
    "\n",
    "def compute_log_likelihood(ct):\n",
    "    return np.sum(np.log(ct)) "
   ]
  },
  {
   "cell_type": "code",
   "execution_count": 44,
   "metadata": {},
   "outputs": [
    {
     "name": "stdout",
     "output_type": "stream",
     "text": [
      "sample generated with success !\n"
     ]
    }
   ],
   "source": [
    "# parameters\n",
    "sigma_epsilon_square_0 = 2\n",
    "sigma_eta_square_0 = 0.02\n",
    "phi_0 = 0.975\n",
    "mu_0 = 0.5\n",
    "\n",
    "\n",
    "# T = 5000\n",
    "# N = 3500\n",
    "T = 5000\n",
    "N = 600\n",
    "observations = generator_ar_1(sigma_epsilon_square=sigma_epsilon_square_0,\n",
    "                              sigma_eta_square=sigma_eta_square_0, phi=phi_0, mu=mu_0, T=T)"
   ]
  },
  {
   "cell_type": "code",
   "execution_count": 47,
   "metadata": {},
   "outputs": [
    {
     "name": "stdout",
     "output_type": "stream",
     "text": [
      "mu= 0.30  log-lokelihood= -10090.812066\n",
      "mu= 0.33  log-lokelihood= -10090.803108\n",
      "mu= 0.36  log-lokelihood= -10090.795555\n",
      "mu= 0.39  log-lokelihood= -10090.7894072\n",
      "mu= 0.42  log-lokelihood= -10090.7846643\n",
      "mu= 0.45  log-lokelihood= -10090.7813266\n",
      "mu= 0.48  log-lokelihood= -10090.7793939\n",
      "mu= 0.51  log-lokelihood= -10090.7788662\n",
      "mu= 0.54  log-lokelihood= -10090.7797436\n",
      "mu= 0.57  log-lokelihood= -10090.782026\n",
      "mu= 0.60  log-lokelihood= -10090.7857135\n",
      "mu= 0.63  log-lokelihood= -10090.7908061\n",
      "mu= 0.66  log-lokelihood= -10090.7973037\n",
      "mu= 0.69  log-lokelihood= -10090.8052064\n",
      "mu= 0.72  log-lokelihood= -10090.8145141\n",
      "mu= 0.75  log-lokelihood= -10090.8252268\n",
      "mu= 0.78  log-lokelihood= -10090.8373447\n",
      "mu= 0.81  log-lokelihood= -10090.8508675\n",
      "mu= 0.84  log-lokelihood= -10090.8657955\n",
      "mu= 0.87  log-lokelihood= -10090.8821285\n"
     ]
    }
   ],
   "source": [
    "mus = [i*0.03 for i in range(10,30)]\n",
    "\n",
    "log_likelihoods = []\n",
    "for mu in mus:\n",
    "    A = phi_0\n",
    "    b = (1 - phi_0) * mu\n",
    "    _, _, ct = compute_alpha_hat(ys=observations, \n",
    "                                 A=A, \n",
    "                                 b=b, \n",
    "                                 sigma2_eta=sigma_epsilon_square_0, \n",
    "                                 sigma2_epi=sigma_epsilon_square_0)\n",
    "    log_lkh = compute_log_likelihood(ct)\n",
    "    print('mu=', '%0.2f' % (mu), ' log-lokelihood=', log_lkh)\n",
    "    log_likelihoods.append(log_lkh)"
   ]
  },
  {
   "cell_type": "code",
   "execution_count": 48,
   "metadata": {},
   "outputs": [
    {
     "data": {
      "image/png": "[encoded data removed]",
      "text/plain": [
       "<matplotlib.figure.Figure at 0x10ef27780>"
      ]
     },
     "metadata": {},
     "output_type": "display_data"
    }
   ],
   "source": [
    "plt.figure()\n",
    "plt.plot(mus, log_likelihoods)\n",
    "plt.show()"
   ]
  }
 ],
 "metadata": {
  "kernelspec": {
   "display_name": "Python 3",
   "language": "python",
   "name": "python3"
  },
  "language_info": {
   "codemirror_mode": {
    "name": "ipython",
    "version": 3
   },
   "file_extension": ".py",
   "mimetype": "text/x-python",
   "name": "python",
   "nbconvert_exporter": "python",
   "pygments_lexer": "ipython3",
   "version": "3.6.4"
  }
 },
 "nbformat": 4,
 "nbformat_minor": 2
}
